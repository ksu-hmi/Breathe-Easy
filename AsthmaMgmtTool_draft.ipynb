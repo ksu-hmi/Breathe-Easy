{
 "cells": [
  {
   "cell_type": "code",
   "execution_count": null,
   "id": "1c98c55f",
   "metadata": {},
   "outputs": [],
   "source": [
    "#import libraries/data first (symptom > symptom combination > severity; 2nd tab: listed medication_dosing options) – drop down or selection option\n",
    "# -- Verify library to import (pip, pandas)\n",
    "\n",
    "#Login screen – Email or username & Password (at this stage, any input should allow entry)\n",
    "\n",
    "\n",
    "#add admin sign ins if we want to go this direction for the treatment plan input vs. user inputting it...\n",
    "admins = {'JoliRN':'ABC123','Faculty2':'ABC123','Joli':'Miracle'}\n",
    "admins = {'BryanaH':'BRH026','Faculty3':'BRH026','Bryana':'Higginbotham'}\n",
    "\n",
    "#Like the admins above is a dictionary but of students. Dictionaries use curly brackets with colons to associate keys with values. In this case, each student's first name is a key. The values are lists of grades. \n",
    "#Lists are denoted with square brackets. Values are indexed within starting with 0 for the first one. Each value is separated by commas.\n",
    "#consider repurposing for entering/selecting child's name for individualized mgmt - instances where parents have 2+ children with asthma\n",
    "#students = {'Alex':[87,88,98], \n",
    "            #'Sally':[88,67,93],\n",
    "            #'Nboke':[90,88,78]}\n",
    "\n",
    "#Must revamp the functions and include while loops, etc. Also, must ensure the file we're using for content is read/writeable for user updates to AAP and noteTracking, Likely to be: \n",
    "#editAAP(); \n",
    "#checkSymptoms() - Line of questions to pinpoint management plan\n",
    "#noteTracking() - Simply documents note with date/time, likely can keep free text(easiest) or also offer choosing from options\n",
    "\n",
    "#other functions listed before this one in GradeTracker program\n",
    "#After user/login menu, need to add Profile screen (before Help screen)\n",
    
    "def main():\n",
    "    print(\"User: \" + login)\n",
    "    #Here we present our main menu options once a person logs in successfully.\n",
    "    print(\"\"\"\n",
    "    What would you like to do for your child's Asthma Management?\n",
    "\n",
    "    [1] - Add or edit the Asthma Action Plan\n",
    "    [2] - Check symptoms for treatment need\n",
    "    [3] - Note symptoms or medication initiation\n",
    "    [4] - Exit\n",
    "    \"\"\")\n",
    "\n",
    "    action = input('What would you like to do? (Enter a number) ')\n",
    "    #Here we process their choice of what they want to do.\n",
    "    if action == '1':\n",
    "        #print('1 selected')\n",
    "        #enterGrades()-modify function for our program editAAP()\n",
    "    elif action == '2':\n",
    "        #print('2 selected')\n",
    "        #removeStudent() -modify function to checkSymptoms()\n",
    "    elif action == '3':\n",
    "        #print('3 selected')\n",
    "        #averageStudents() - modify function to noteTracking()\n",
    "    elif action == '4':\n",
    "        #print('4 selected')\n",
    "        #exit() -validate if other options or exit appropriate\n",
    "    else:\n",
    "        print('Valid option not selected.') #need to cause it to reprompt\n",
    "\n",
    "login = input('User: ')\n",
    "\n",
    "#if login in admins: modify this for \n",
    "    password = input('Password: ')\n",
    "    if admins[login] == password:\n",
    "        print('Welcome,',login)\n",
    "        #now run the code\n",
    "        while True:\n",
    "            main()\n",
    "#loop more appropriate to reprompt\n",
    "    else:\n",
    "        print('Invalid password.')\n",
    "#loop more appropriate to reprompt\n",
    "else:\n",
    "    print('Invalid user.')\n",
    "\n",
    "\n",
    "\n",
    "#Now we define functions. Functions encapsulate logic into reusable recipes that can be executed whenever we need them by calling their name with parentheses.\n",
    "#def enterGrades(): \n",
    "    nameToEnter = input('Student name: ')\n",
    "    gradeToEnter = input('Grade: ')\n",
    "    #This checks through the keys of the students dictionary to see if the name entered exactly matches any one in there.\n",
    "    if nameToEnter in students:\n",
    "        print('Adding grade for'+nameToEnter)\n",
    "        students[nameToEnter].append(float(gradeToEnter)) #float will have a .0\n",
    "        print(str(nameToEnter)+' now has these grades:')\n",
    "        print(students[nameToEnter])\n",
    "    else:\n",
    "        print('Student not found. Please check your spelling or go back and add if new.')\n",
    "\n",
    "#def removeStudent():\n",
    "    nameToRemove = input('Who do you want to remove? ')\n",
    "    if nameToRemove in students:\n",
    "        print('Removing '+nameToRemove)\n",
    "        del students[nameToRemove]\n",
    "        print(students)\n",
    "    else:\n",
    "        print('Student not found.')\n",
    "\n",
    "#def averageStudents():\n",
    "    for student in students:\n",
    "        grades = students[student]\n",
    "        average = s.mean(grades) #notice the s? we imported the statistuics module as s. Thus, we are using a fucntion called \"mean()\" from the statistics module.\n",
    "        print(student,' average ',average)\n"
   ]
  }
 ],
 "metadata": {
  "kernelspec": {
   "display_name": "Python 3 (ipykernel)",
   "language": "python",
   "name": "python3"
  },
  "language_info": {
   "codemirror_mode": {
    "name": "ipython",
    "version": 3
   },
   "file_extension": ".py",
   "mimetype": "text/x-python",
   "name": "python",
   "nbconvert_exporter": "python",
   "pygments_lexer": "ipython3",
   "version": "3.9.12"
  }
 },
 "nbformat": 4,
 "nbformat_minor": 5
}


from flask import Flask, request, render_template
  
  
app = Flask(__name__)
  
  
@app.route("/", methods=["POST", "GET"])
def home():
    if request.method == "GET":
        medications = ["Prednisone", "Montelukast", "Duxamethasone", "Albuterol", "Budesonide", "Hydrocortisone"]
  
          
        return render_template("index.html", medications=medications)
  
if __name__ == '__main__':
    app.run(debug=True)
